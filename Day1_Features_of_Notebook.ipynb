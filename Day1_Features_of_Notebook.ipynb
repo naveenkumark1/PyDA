{
 "cells": [
  {
   "cell_type": "code",
   "execution_count": 95,
   "id": "1361b84a",
   "metadata": {
    "scrolled": true
   },
   "outputs": [
    {
     "name": "stdout",
     "output_type": "stream",
     "text": [
      "OM\n"
     ]
    }
   ],
   "source": [
    "print(\"OM\")"
   ]
  },
  {
   "cell_type": "markdown",
   "id": "94bf3e7b",
   "metadata": {},
   "source": [
    "## Welcome to Python"
   ]
  },
  {
   "cell_type": "code",
   "execution_count": 15,
   "id": "f00292c3",
   "metadata": {},
   "outputs": [
    {
     "name": "stdout",
     "output_type": "stream",
     "text": [
      "India is my country\n"
     ]
    }
   ],
   "source": [
    "print(\"India is my country\")"
   ]
  },
  {
   "cell_type": "code",
   "execution_count": 419,
   "id": "5fcf2606",
   "metadata": {},
   "outputs": [
    {
     "data": {
      "text/plain": [
       "'3.9.12 (main, Apr  4 2022, 05:22:27) [MSC v.1916 64 bit (AMD64)]'"
      ]
     },
     "execution_count": 419,
     "metadata": {},
     "output_type": "execute_result"
    }
   ],
   "source": [
    "import sys\n",
    "sys.version"
   ]
  },
  {
   "cell_type": "code",
   "execution_count": 27,
   "id": "e7595b58",
   "metadata": {},
   "outputs": [],
   "source": [
    "# Comment\n",
    "abc - variable \n",
    "\n",
    "# keywords \n",
    "print\n",
    "import\n",
    "type\n",
    "True\n",
    "\n",
    "'India'\n",
    "\n",
    "@!@\n",
    "$\n",
    "%^&\n",
    "#\n",
    "*\n",
    "()\n",
    "{}\n",
    "[]\n"
   ]
  },
  {
   "cell_type": "code",
   "execution_count": 421,
   "id": "3c2bc94d",
   "metadata": {},
   "outputs": [
    {
     "data": {
      "text/plain": [
       "10"
      ]
     },
     "execution_count": 421,
     "metadata": {},
     "output_type": "execute_result"
    }
   ],
   "source": [
    "a = 10\n",
    "a"
   ]
  }
 ],
 "metadata": {
  "kernelspec": {
   "display_name": "Python 3 (ipykernel)",
   "language": "python",
   "name": "python3"
  },
  "language_info": {
   "codemirror_mode": {
    "name": "ipython",
    "version": 3
   },
   "file_extension": ".py",
   "mimetype": "text/x-python",
   "name": "python",
   "nbconvert_exporter": "python",
   "pygments_lexer": "ipython3",
   "version": "3.9.12"
  }
 },
 "nbformat": 4,
 "nbformat_minor": 5
}
