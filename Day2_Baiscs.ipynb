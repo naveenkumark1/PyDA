{
 "cells": [
  {
   "cell_type": "code",
   "execution_count": 1,
   "id": "317d2b82",
   "metadata": {},
   "outputs": [
    {
     "ename": "NameError",
     "evalue": "name 'true' is not defined",
     "output_type": "error",
     "traceback": [
      "\u001b[1;31m---------------------------------------------------------------------------\u001b[0m",
      "\u001b[1;31mNameError\u001b[0m                                 Traceback (most recent call last)",
      "Input \u001b[1;32mIn [1]\u001b[0m, in \u001b[0;36m<cell line: 4>\u001b[1;34m()\u001b[0m\n\u001b[0;32m      1\u001b[0m \u001b[38;5;66;03m# Case senitive \u001b[39;00m\n\u001b[0;32m      3\u001b[0m \u001b[38;5;28;01mTrue\u001b[39;00m\n\u001b[1;32m----> 4\u001b[0m \u001b[43mtrue\u001b[49m\n\u001b[0;32m      6\u001b[0m Print()\n\u001b[0;32m      7\u001b[0m \u001b[38;5;28mprint\u001b[39m()\n",
      "\u001b[1;31mNameError\u001b[0m: name 'true' is not defined"
     ]
    }
   ],
   "source": [
    "# Case senitive \n",
    "\n",
    "True\n",
    "true\n",
    "\n",
    "Print()\n",
    "print()"
   ]
  },
  {
   "cell_type": "code",
   "execution_count": null,
   "id": "69c31421",
   "metadata": {},
   "outputs": [],
   "source": [
    "# Indentation \n",
    "\n",
    "for i in range(0,10):\n",
    "    print(i)\n",
    "    print(i*i)"
   ]
  },
  {
   "cell_type": "code",
   "execution_count": 2,
   "id": "34c14c46",
   "metadata": {},
   "outputs": [
    {
     "data": {
      "text/plain": [
       "complex"
      ]
     },
     "execution_count": 2,
     "metadata": {},
     "output_type": "execute_result"
    }
   ],
   "source": [
    "a = 10.1+12j\n",
    "type(a)"
   ]
  },
  {
   "cell_type": "code",
   "execution_count": 3,
   "id": "0db242bb",
   "metadata": {},
   "outputs": [
    {
     "name": "stdout",
     "output_type": "stream",
     "text": [
      "10\n",
      "12\n"
     ]
    }
   ],
   "source": [
    "## Variables \n",
    "\n",
    "#letters\n",
    "a = 10\n",
    "print(a)\n",
    "\n",
    "# 1 = 12 - Number cannot be a variable \n",
    "\n",
    "# combo of letter and number\n",
    "a1 = 12\n",
    "print(a1)\n",
    "\n",
    "# 1a = 12 - Variable name cannot start with a number \n",
    "\n",
    "# ! = 10 - Special character cannot be a vaiable "
   ]
  },
  {
   "cell_type": "code",
   "execution_count": 4,
   "id": "f8fa9ace",
   "metadata": {},
   "outputs": [],
   "source": [
    "## Memory management \n",
    "\n",
    "#--- Check \n"
   ]
  },
  {
   "cell_type": "code",
   "execution_count": 5,
   "id": "c0098b12",
   "metadata": {},
   "outputs": [
    {
     "name": "stdout",
     "output_type": "stream",
     "text": [
      "[1, 2, 3]\n",
      "1337341587904\n",
      "[1, 2, 3]\n",
      "1337341587904\n",
      "[1, 2, 3]\n",
      "1337341806080\n"
     ]
    }
   ],
   "source": [
    "ls1 = [1,2,3]\n",
    "print(ls1)\n",
    "print(id(ls1))\n",
    "\n",
    "ls3 = ls1\n",
    "print(ls3)\n",
    "print(id(ls3))\n",
    "\n",
    "ls2 = [1,2,3]\n",
    "print(ls2)\n",
    "print(id(ls2))\n"
   ]
  },
  {
   "cell_type": "code",
   "execution_count": 6,
   "id": "e3875e33",
   "metadata": {},
   "outputs": [
    {
     "name": "stdout",
     "output_type": "stream",
     "text": [
      "[1, 2, 3]\n",
      "1337341587904\n",
      "[10, 20, 30]\n",
      "1337341799424\n"
     ]
    }
   ],
   "source": [
    "ls1 = [10,20,30]\n",
    "\n",
    "print(ls3)\n",
    "print(id(ls3))\n",
    "\n",
    "print(ls1)\n",
    "print(id(ls1))\n"
   ]
  },
  {
   "cell_type": "code",
   "execution_count": 15,
   "id": "f3c40839",
   "metadata": {},
   "outputs": [
    {
     "name": "stdout",
     "output_type": "stream",
     "text": [
      "10\n",
      "4\n",
      "21\n",
      "-2.6666666666666665\n",
      "-3\n",
      "2\n",
      "-3\n"
     ]
    }
   ],
   "source": [
    "## Math operators \n",
    "\n",
    "print(7 + 3)\n",
    "print(7 - 3)\n",
    "print(7 * 3)\n",
    "print(-8 / 3)\n",
    "\n",
    "print(round(-8 / 3))\n",
    "\n",
    "print(8 // 3)\n",
    "print(-8 // 3)"
   ]
  },
  {
   "cell_type": "code",
   "execution_count": 17,
   "id": "9e77324b",
   "metadata": {},
   "outputs": [
    {
     "name": "stdout",
     "output_type": "stream",
     "text": [
      "False\n",
      "True\n",
      "True\n",
      "False\n",
      "False\n",
      "True\n"
     ]
    },
    {
     "name": "stderr",
     "output_type": "stream",
     "text": [
      "<>:7: SyntaxWarning: \"is\" with a literal. Did you mean \"==\"?\n",
      "<>:8: SyntaxWarning: \"is not\" with a literal. Did you mean \"!=\"?\n",
      "<>:7: SyntaxWarning: \"is\" with a literal. Did you mean \"==\"?\n",
      "<>:8: SyntaxWarning: \"is not\" with a literal. Did you mean \"!=\"?\n",
      "C:\\Users\\AdmiN\\AppData\\Local\\Temp\\ipykernel_2808\\3636417560.py:7: SyntaxWarning: \"is\" with a literal. Did you mean \"==\"?\n",
      "  print(7 is 2)\n",
      "C:\\Users\\AdmiN\\AppData\\Local\\Temp\\ipykernel_2808\\3636417560.py:8: SyntaxWarning: \"is not\" with a literal. Did you mean \"!=\"?\n",
      "  print(7 is not 2)\n"
     ]
    }
   ],
   "source": [
    "# Comparison \n",
    "\n",
    "print(7 == 2)\n",
    "print(7 != 2)\n",
    "print(7 > 2)\n",
    "print(7 < 2)\n",
    "print(7 is 2)\n",
    "print(7 is not 2)"
   ]
  },
  {
   "cell_type": "code",
   "execution_count": 20,
   "id": "fc2dc24a",
   "metadata": {},
   "outputs": [
    {
     "name": "stdout",
     "output_type": "stream",
     "text": [
      "<class 'bool'>\n",
      "<class 'int'>\n",
      "<class 'float'>\n",
      "<class 'str'>\n",
      "<class 'complex'>\n",
      "<class 'NoneType'>\n"
     ]
    }
   ],
   "source": [
    "## Data type \n",
    "\n",
    "\n",
    "a = True\n",
    "print(type(a))\n",
    "\n",
    "a = 10 \n",
    "print(type(a))\n",
    "\n",
    "a = 10.1 \n",
    "print(type(a))\n",
    "\n",
    "a = 'India'\n",
    "print(type(a))\n",
    "\n",
    "a = 10+2J\n",
    "print(type(a))\n",
    "\n",
    "a = None\n",
    "print(type(a))"
   ]
  },
  {
   "cell_type": "code",
   "execution_count": null,
   "id": "aa6f4ef8",
   "metadata": {},
   "outputs": [],
   "source": [
    "## List, Tuple, Set, Disctionary "
   ]
  },
  {
   "cell_type": "code",
   "execution_count": null,
   "id": "f02e5150",
   "metadata": {},
   "outputs": [],
   "source": []
  },
  {
   "cell_type": "code",
   "execution_count": null,
   "id": "d253452d",
   "metadata": {},
   "outputs": [],
   "source": []
  },
  {
   "cell_type": "code",
   "execution_count": null,
   "id": "70f9d758",
   "metadata": {},
   "outputs": [],
   "source": []
  },
  {
   "cell_type": "code",
   "execution_count": null,
   "id": "688b7d79",
   "metadata": {},
   "outputs": [],
   "source": []
  },
  {
   "cell_type": "code",
   "execution_count": null,
   "id": "0045f027",
   "metadata": {},
   "outputs": [],
   "source": []
  }
 ],
 "metadata": {
  "kernelspec": {
   "display_name": "Python 3 (ipykernel)",
   "language": "python",
   "name": "python3"
  },
  "language_info": {
   "codemirror_mode": {
    "name": "ipython",
    "version": 3
   },
   "file_extension": ".py",
   "mimetype": "text/x-python",
   "name": "python",
   "nbconvert_exporter": "python",
   "pygments_lexer": "ipython3",
   "version": "3.9.12"
  }
 },
 "nbformat": 4,
 "nbformat_minor": 5
}
